{
  "nbformat": 4,
  "nbformat_minor": 0,
  "metadata": {
    "colab": {
      "name": "Face recognition",
      "provenance": []
    },
    "kernelspec": {
      "name": "python3",
      "display_name": "Python 3"
    },
    "language_info": {
      "name": "python"
    },
    "accelerator": "GPU"
  },
  "cells": [
    {
      "cell_type": "code",
      "source": [
        "#!pip install  face_recognition"
      ],
      "metadata": {
        "id": "8b0zUjJPE58M"
      },
      "execution_count": 1,
      "outputs": []
    },
    {
      "cell_type": "code",
      "execution_count": 2,
      "metadata": {
        "id": "q88ebhLXErwJ"
      },
      "outputs": [],
      "source": [
        "import face_recognition as fr\n",
        "import cv2\n",
        "import numpy as np\n",
        "import os\n",
        "import requests"
      ]
    },
    {
      "cell_type": "code",
      "source": [
        "#!unzip train.zip"
      ],
      "metadata": {
        "id": "-RWO_biNHc6q"
      },
      "execution_count": 3,
      "outputs": []
    },
    {
      "cell_type": "code",
      "source": [
        "path = \"train\"\n",
        "\n",
        "known_names = []\n",
        "known_name_encodings = []\n",
        "\n",
        "images = os.listdir(path)"
      ],
      "metadata": {
        "id": "pimMLcyaGRg8"
      },
      "execution_count": 4,
      "outputs": []
    },
    {
      "cell_type": "code",
      "source": [
        "for _ in images:\n",
        "    image = fr.load_image_file(_)\n",
        "    image_path =  _\n",
        "    encoding = fr.face_encodings(image)[0]\n",
        "\n",
        "    known_name_encodings.append(encoding)\n",
        "    known_names.append(os.path.splitext(os.path.basename(image_path))[0].capitalize())\n"
      ],
      "metadata": {
        "id": "ay12by1nIPCI"
      },
      "execution_count": 5,
      "outputs": []
    },
    {
      "cell_type": "code",
      "source": [
        "print(known_names)"
      ],
      "metadata": {
        "colab": {
          "base_uri": "https://localhost:8080/"
        },
        "id": "KV6QdLRBJ-xc",
        "outputId": "ca41cf16-2150-49f4-b6d0-327713cf0dd3"
      },
      "execution_count": 6,
      "outputs": [
        {
          "output_type": "stream",
          "name": "stdout",
          "text": [
            "['Rachel', 'Phoebe', 'Chandler', 'Joey', 'Monica', 'Ross']\n"
          ]
        }
      ]
    },
    {
      "cell_type": "code",
      "source": [
        "test_image = \"test.jpg\"\n",
        "image = cv2.imread(test_image)"
      ],
      "metadata": {
        "id": "nnToJMagKFPO"
      },
      "execution_count": 7,
      "outputs": []
    },
    {
      "cell_type": "code",
      "source": [
        "face_locations = fr.face_locations(image)\n",
        "face_encodings = fr.face_encodings(image, face_locations)"
      ],
      "metadata": {
        "id": "JVTIszlrKOvf"
      },
      "execution_count": 8,
      "outputs": []
    },
    {
      "cell_type": "code",
      "source": [
        "f=open(\"file.csv\",'w')\n"
      ],
      "metadata": {
        "id": "ZP6KoB05tLUd"
      },
      "execution_count": 9,
      "outputs": []
    },
    {
      "cell_type": "code",
      "source": [
        "for (top, right, bottom, left), face_encoding in zip(face_locations, face_encodings):\n",
        "    matches = fr.compare_faces(known_name_encodings, face_encoding)\n",
        "    name = \"\"\n",
        "\n",
        "    face_distances = fr.face_distance(known_name_encodings, face_encoding)\n",
        "    best_match = np.argmin(face_distances)\n",
        "\n",
        "    if matches[best_match]:\n",
        "        name = known_names[best_match]\n",
        "\n",
        "    cv2.rectangle(image, (left, top), (right, bottom), (0, 0, 255), 2)\n",
        "    cv2.rectangle(image, (left, bottom - 15), (right, bottom), (0, 0, 255), cv2.FILLED)\n",
        "    font = cv2.FONT_HERSHEY_DUPLEX\n",
        "    f.write(name)\n",
        "    f.write(\"\\n \")\n",
        "    cv2.putText(image, name, (left + 6, bottom - 6), font, 1.0, (255, 255, 255), 1)"
      ],
      "metadata": {
        "id": "AfSR-bY9KUrA"
      },
      "execution_count": 10,
      "outputs": []
    },
    {
      "cell_type": "code",
      "source": [
        "cv2.imwrite(\"output.jpg\", image)\n",
        "f.close()"
      ],
      "metadata": {
        "id": "F8Z1_dv2KZ2-"
      },
      "execution_count": 11,
      "outputs": []
    },
    {
      "cell_type": "code",
      "source": [
        "files={'photo':open(\"output.jpg\",'rb')}\n",
        "resp=requests.post('https://api.telegram.org/bot5548975991:<token>/sendPhoto?chat_id=-624915028',files=files)\n"
      ],
      "metadata": {
        "id": "pANee-2b5AH2"
      },
      "execution_count": 12,
      "outputs": []
    },
    {
      "cell_type": "code",
      "source": [
        "csv={'document':open(\"file.csv\",'rb')}\n",
        "resp=requests.post('https://api.telegram.org/bot5548975991:<token>/sendDocument?chat_id=-624915028',files=csv)"
      ],
      "metadata": {
        "id": "7kDofweK_ZP4"
      },
      "execution_count": 13,
      "outputs": []
    },
    {
      "cell_type": "code",
      "source": [
        "cv2.waitKey(0)\n",
        "cv2.destroyAllWindows()"
      ],
      "metadata": {
        "id": "DvBLN5wWK6zK"
      },
      "execution_count": 14,
      "outputs": []
    }
  ]
}